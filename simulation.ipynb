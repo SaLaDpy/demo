{
 "cells": [
  {
   "cell_type": "markdown",
   "metadata": {},
   "source": [
    "# Edit and Simulate SpringSaLaD Input Files"
   ]
  },
  {
   "cell_type": "code",
   "execution_count": 4,
   "metadata": {},
   "outputs": [],
   "source": [
    "from SpringSaLaDpy.editor import *\n",
    "from SpringSaLaDpy.Project_reader import *\n",
    "from SpringSaLaDpy.executable import simulate"
   ]
  },
  {
   "cell_type": "code",
   "execution_count": 5,
   "metadata": {},
   "outputs": [
    {
     "name": "stdout",
     "output_type": "stream",
     "text": [
      "Moleclues:\n",
      "\n",
      "MOLECULE: \"R\" (Initial Count: 5)\n",
      "This molecule has 3 site types: R (2 possible states: State0, State1), L, Anchor\n",
      "\n",
      "It consists of 4 connected sites:\n",
      "Type R: 2 intracellular sites (Site 0, Site 2)\n",
      "Type Anchor: 1 membrane (Site 1)\n",
      "Type L: 1 intracellular (Site 3)\n",
      "------------------------------------------------------------------------------------------------------------\n",
      "\n",
      "MOLECULE: \"Adapter\" (Initial Count: 5)\n",
      "This molecule has 2 site types: A, L\n",
      "\n",
      "It consists of 3 connected sites:\n",
      "Type A: 2 intracellular sites (Site 0, Site 2)\n",
      "Type L: 1 intracellular (Site 1)\n",
      "------------------------------------------------------------------------------------------------------------\n",
      "\n",
      "************************************************************************************************************\n",
      "\n",
      "Reaction Rules\n",
      "\n",
      "State Transition Reactions: 1\n",
      "A site of type R in a R molecule can change its state from State0 to State1 at a rate of 0.0 s-1 provided that it is bound to site A of a molecule Adapter\n",
      "\n",
      "Allosteric Reactions: 1\n",
      "Site 0 of molecule R can change its state from State0 to State1 at a rate of 0.0 s-1 provided that Site 2 of the same molecule is in state State0\n",
      "\n",
      "Biomolecular Binding Reactions: 1\n",
      "Site R of molecule R (in any state) can bind to site A of Adapter \n",
      "\tOn rate: 10.0 uM-1.s-1, off rate: 10.0 s-1\n"
     ]
    }
   ],
   "source": [
    "search_directory = 'Examples\\R_L_test_difficult_SIMULATIONS'\n",
    "\n",
    "Describe_input_file(search_directory, links=False, reactions=True, kinetics=True)"
   ]
  },
  {
   "cell_type": "code",
   "execution_count": 6,
   "metadata": {},
   "outputs": [],
   "source": [
    "#New molecule counts, on rates, and off rates\n",
    "counts = [6,7]\n",
    "on_rate = [5]\n",
    "off_rate = [20]\n",
    "\n",
    "output_name = 'modified_input.txt'\n",
    "output_path_tail = 'demo_simulation'\n",
    "output_path = os.path.join(output_path_tail, output_name)\n",
    "\n",
    "edit_input_file(search_directory, output_path=output_path, counts=counts, on_rate=on_rate, off_rate=off_rate)"
   ]
  },
  {
   "cell_type": "code",
   "execution_count": 7,
   "metadata": {},
   "outputs": [
    {
     "name": "stdout",
     "output_type": "stream",
     "text": [
      "Moleclues:\n",
      "\n",
      "MOLECULE: \"R\" (Initial Count: 6)\n",
      "This molecule has 3 site types: R (2 possible states: State0, State1), L, Anchor\n",
      "\n",
      "It consists of 4 connected sites:\n",
      "Type R: 2 intracellular sites (Site 0, Site 2)\n",
      "Type Anchor: 1 membrane (Site 1)\n",
      "Type L: 1 intracellular (Site 3)\n",
      "------------------------------------------------------------------------------------------------------------\n",
      "\n",
      "MOLECULE: \"Adapter\" (Initial Count: 7)\n",
      "This molecule has 2 site types: A, L\n",
      "\n",
      "It consists of 3 connected sites:\n",
      "Type A: 2 intracellular sites (Site 0, Site 2)\n",
      "Type L: 1 intracellular (Site 1)\n",
      "------------------------------------------------------------------------------------------------------------\n",
      "\n",
      "************************************************************************************************************\n",
      "\n",
      "Reaction Rules\n",
      "\n",
      "State Transition Reactions: 1\n",
      "A site of type R in a R molecule can change its state from State0 to State1 at a rate of 0.0 s-1 provided that it is bound to site A of a molecule Adapter\n",
      "\n",
      "Allosteric Reactions: 1\n",
      "Site 0 of molecule R can change its state from State0 to State1 at a rate of 0.0 s-1 provided that Site 2 of the same molecule is in state State0\n",
      "\n",
      "Biomolecular Binding Reactions: 1\n",
      "Site R of molecule R (in any state) can bind to site A of Adapter \n",
      "\tOn rate: 5 uM-1.s-1, off rate: 20 s-1\n"
     ]
    }
   ],
   "source": [
    "Describe_input_file(output_path_tail, links=False, reactions=True, kinetics=True)"
   ]
  },
  {
   "cell_type": "code",
   "execution_count": 8,
   "metadata": {},
   "outputs": [
    {
     "name": "stdout",
     "output_type": "stream",
     "text": [
      "c:\\Users\\cpero\\Downloads\\package_tester\\demo_simulation\\modified_input.txt\n"
     ]
    }
   ],
   "source": [
    "simulate(output_path,2)"
   ]
  }
 ],
 "metadata": {
  "kernelspec": {
   "display_name": "venv",
   "language": "python",
   "name": "python3"
  },
  "language_info": {
   "codemirror_mode": {
    "name": "ipython",
    "version": 3
   },
   "file_extension": ".py",
   "mimetype": "text/x-python",
   "name": "python",
   "nbconvert_exporter": "python",
   "pygments_lexer": "ipython3",
   "version": "3.10.4"
  }
 },
 "nbformat": 4,
 "nbformat_minor": 2
}
