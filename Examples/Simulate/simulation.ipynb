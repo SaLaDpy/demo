{
 "cells": [
  {
   "cell_type": "markdown",
   "metadata": {},
   "source": [
    "# Edit and Simulate SpringSaLaD Input Files"
   ]
  },
  {
   "cell_type": "code",
   "execution_count": 5,
   "metadata": {},
   "outputs": [],
   "source": [
    "from saladpy.editor import *\n",
    "from saladpy.Project_reader import *\n",
    "from saladpy.executable import simulate"
   ]
  },
  {
   "cell_type": "code",
   "execution_count": 7,
   "metadata": {},
   "outputs": [
    {
     "name": "stdout",
     "output_type": "stream",
     "text": [
      "Moleclues:\n",
      "\n",
      "MOLECULE: \"NWASP\" (Initial Count: 10)\n",
      "This molecule has 5 site types: dom1, linker, PRM, dom3, dom2\n",
      "\n",
      "It consists of 16 connected sites:\n",
      "Type PRM: 6 intracellular sites (Site 0, Site 2, Site 4, Site 6, Site 8, Site 10)\n",
      "Type linker: 7 intracellular sites (Site 1, Site 3, Site 5, Site 7, Site 9, Site 14, Site 15)\n",
      "Type dom1: 1 intracellular (Site 11)\n",
      "Type dom3: 1 intracellular (Site 12)\n",
      "Type dom2: 1 intracellular (Site 13)\n",
      "------------------------------------------------------------------------------------------------------------\n",
      "\n",
      "MOLECULE: \"NCK\" (Initial Count: 20)\n",
      "This molecule has 5 site types: SH3_1, SH3_2, SH3_3, SH2, linker\n",
      "\n",
      "It consists of 5 connected sites:\n",
      "Type SH3_1: 1 intracellular (Site 0)\n",
      "Type SH3_2: 1 intracellular (Site 1)\n",
      "Type SH3_3: 1 intracellular (Site 2)\n",
      "Type SH2: 1 intracellular (Site 3)\n",
      "Type linker: 1 intracellular (Site 4)\n",
      "------------------------------------------------------------------------------------------------------------\n",
      "\n",
      "MOLECULE: \"NEPHRIN\" (Initial Count: 6)\n",
      "This molecule has 7 site types: dom1, Anchor, dom2, pTyr_1_2, linker, lin_dom, pTyr_3\n",
      "\n",
      "It consists of 8 connected sites:\n",
      "Type Anchor: 1 membrane (Site 0)\n",
      "Type dom1: 1 intracellular (Site 1)\n",
      "Type dom2: 1 intracellular (Site 2)\n",
      "Type pTyr_1_2: 2 intracellular sites (Site 3, Site 4)\n",
      "Type linker: 1 intracellular (Site 5)\n",
      "Type pTyr_3: 1 intracellular (Site 6)\n",
      "Type lin_dom: 1 intracellular (Site 7)\n",
      "------------------------------------------------------------------------------------------------------------\n",
      "\n",
      "************************************************************************************************************\n",
      "\n",
      "Reaction Rules\n",
      "\n",
      "Biomolecular Binding Reactions: 5\n",
      "Site pTyr_1_2 of molecule NEPHRIN can bind to site SH2 of NCK \n",
      "\tOn rate: 100.0 uM-1.s-1, off rate: 100.0 s-1\n",
      "Site SH3_1 of molecule NCK can bind to site PRM of NWASP \n",
      "\tOn rate: 100.0 uM-1.s-1, off rate: 10000.0 s-1\n",
      "Site SH3_2 of molecule NCK can bind to site PRM of NWASP \n",
      "\tOn rate: 100.0 uM-1.s-1, off rate: 10000.0 s-1\n",
      "Site SH3_3 of molecule NCK can bind to site PRM of NWASP \n",
      "\tOn rate: 100.0 uM-1.s-1, off rate: 10000.0 s-1\n",
      "Site pTyr_3 of molecule NEPHRIN can bind to site SH2 of NCK \n",
      "\tOn rate: 100.0 uM-1.s-1, off rate: 100.0 s-1\n"
     ]
    }
   ],
   "source": [
    "search_directory = os.path.join('..', '..', 'Examples', 'GUI_results', 'Nephrin-Nck-NWasp', 'Final_version_test_SIMULATIONS', 'Simulation0_SIM_SIMULATIONS')\n",
    "\n",
    "Describe_input_file(search_directory, links=False, reactions=True, kinetics=True)"
   ]
  },
  {
   "cell_type": "code",
   "execution_count": 8,
   "metadata": {},
   "outputs": [],
   "source": [
    "#Edit the input file\n",
    "\n",
    "#New molecule counts, on rates, and off rates\n",
    "counts = [10,20,16]\n",
    "on_rate = [10000]\n",
    "off_rate = [100]\n",
    "\n",
    "output_name = 'modified_input3.txt'\n",
    "output_path_tail = os.path.join('..', '..', 'Examples', 'Simulate')\n",
    "output_path = os.path.join(output_path_tail, output_name)\n",
    "\n",
    "edit_input_file(search_directory, output_path=output_path, counts=counts)"
   ]
  },
  {
   "cell_type": "code",
   "execution_count": 4,
   "metadata": {},
   "outputs": [
    {
     "name": "stdout",
     "output_type": "stream",
     "text": [
      "Moleclues:\n",
      "\n",
      "MOLECULE: \"R\" (Initial Count: 8)\n",
      "This molecule has 3 site types: R (2 possible states: State0, State1), L, Anchor\n",
      "\n",
      "It consists of 4 connected sites:\n",
      "Type R: 2 intracellular sites (Site 0, Site 2)\n",
      "Type Anchor: 1 membrane (Site 1)\n",
      "Type L: 1 intracellular (Site 3)\n",
      "------------------------------------------------------------------------------------------------------------\n",
      "\n",
      "MOLECULE: \"Adapter\" (Initial Count: 8)\n",
      "This molecule has 2 site types: A, L\n",
      "\n",
      "It consists of 3 connected sites:\n",
      "Type A: 2 intracellular sites (Site 0, Site 2)\n",
      "Type L: 1 intracellular (Site 1)\n",
      "------------------------------------------------------------------------------------------------------------\n",
      "\n",
      "************************************************************************************************************\n",
      "\n",
      "Reaction Rules\n",
      "\n",
      "State Transition Reactions: 1\n",
      "A site of type R in a R molecule can change its state from State0 to State1 at a rate of 0.0 s-1 provided that it is bound to site A of a molecule Adapter\n",
      "\n",
      "Allosteric Reactions: 1\n",
      "Site 0 of molecule R can change its state from State0 to State1 at a rate of 0.0 s-1 provided that Site 2 of the same molecule is in state State0\n",
      "\n",
      "Biomolecular Binding Reactions: 1\n",
      "Site R of molecule R (in any state) can bind to site A of Adapter \n",
      "\tOn rate: 10000 uM-1.s-1, off rate: 100 s-1\n"
     ]
    }
   ],
   "source": [
    "Describe_input_file(output_path_tail, links=False, reactions=True, kinetics=True)"
   ]
  },
  {
   "cell_type": "code",
   "execution_count": 5,
   "metadata": {},
   "outputs": [
    {
     "name": "stdout",
     "output_type": "stream",
     "text": [
      "Model \"..\\..\\Examples\\Simulate\\modified_input.txt\" is running\n",
      "Simulation complete, results can be found here: c:\\Users\\cpero\\Downloads\\demo\\Examples\\Simulate\\modified_input_FOLDER\n"
     ]
    }
   ],
   "source": [
    "simulate(output_path, 4)"
   ]
  }
 ],
 "metadata": {
  "kernelspec": {
   "display_name": "venv",
   "language": "python",
   "name": "python3"
  },
  "language_info": {
   "codemirror_mode": {
    "name": "ipython",
    "version": 3
   },
   "file_extension": ".py",
   "mimetype": "text/x-python",
   "name": "python",
   "nbconvert_exporter": "python",
   "pygments_lexer": "ipython3",
   "version": "3.10.4"
  }
 },
 "nbformat": 4,
 "nbformat_minor": 2
}
