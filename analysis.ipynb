{
 "cells": [
  {
   "cell_type": "markdown",
   "metadata": {},
   "source": [
    "# Python Visulization of SpringSaLaD Outputs\n",
    "\n",
    "This notebook demonstrates different ways visualize the CSV outputs generate by SpringSaLaD."
   ]
  },
  {
   "cell_type": "code",
   "execution_count": 1,
   "metadata": {},
   "outputs": [],
   "source": [
    "#Import necessary functions and data\n",
    "from SpringSaLaDpy.Visualization import *\n",
    "from SpringSaLaDpy.data_locator import data_file_finder\n",
    "from SpringSaLaDpy.display_info import *\n",
    "from SpringSaLaDpy.Project_reader import Describe_input_file\n",
    "from SpringSaLaDpy.MolDraw.MolDraw_exec import display_molecules"
   ]
  },
  {
   "cell_type": "code",
   "execution_count": 2,
   "metadata": {},
   "outputs": [
    {
     "name": "stdout",
     "output_type": "stream",
     "text": [
      "Moleclues:\n",
      "\n",
      "MOLECULE: \"NWASP\" (Initial Count: 10)\n",
      "This molecule has 5 site types: dom1, linker, PRM, dom3, dom2\n",
      "\n",
      "It consists of 16 connected sites:\n",
      "Type PRM: 6 intracellular sites (Site 0, Site 2, Site 4, Site 6, Site 8, Site 10)\n",
      "Type linker: 7 intracellular sites (Site 1, Site 3, Site 5, Site 7, Site 9, Site 14, Site 15)\n",
      "Type dom1: 1 intracellular (Site 11)\n",
      "Type dom3: 1 intracellular (Site 12)\n",
      "Type dom2: 1 intracellular (Site 13)\n",
      "------------------------------------------------------------------------------------------------------------\n",
      "\n",
      "MOLECULE: \"NCK\" (Initial Count: 20)\n",
      "This molecule has 5 site types: SH3_1, SH3_2, SH3_3, SH2, linker\n",
      "\n",
      "It consists of 5 connected sites:\n",
      "Type SH3_1: 1 intracellular (Site 0)\n",
      "Type SH3_2: 1 intracellular (Site 1)\n",
      "Type SH3_3: 1 intracellular (Site 2)\n",
      "Type SH2: 1 intracellular (Site 3)\n",
      "Type linker: 1 intracellular (Site 4)\n",
      "------------------------------------------------------------------------------------------------------------\n",
      "\n",
      "MOLECULE: \"NEPHRIN\" (Initial Count: 6)\n",
      "This molecule has 7 site types: dom1, Anchor, dom2, pTyr_1_2, linker, lin_dom, pTyr_3\n",
      "\n",
      "It consists of 8 connected sites:\n",
      "Type Anchor: 1 membrane (Site 0)\n",
      "Type dom1: 1 intracellular (Site 1)\n",
      "Type dom2: 1 intracellular (Site 2)\n",
      "Type pTyr_1_2: 2 intracellular sites (Site 3, Site 4)\n",
      "Type linker: 1 intracellular (Site 5)\n",
      "Type pTyr_3: 1 intracellular (Site 6)\n",
      "Type lin_dom: 1 intracellular (Site 7)\n",
      "------------------------------------------------------------------------------------------------------------\n",
      "\n",
      "************************************************************************************************************\n",
      "\n",
      "Reaction Rules\n",
      "\n",
      "Biomolecular Binding Reactions: 5\n",
      "Site pTyr_1_2 of molecule NEPHRIN can bind to site SH2 of NCK \n",
      "\tOn rate: 100.0 uM-1.s-1, off rate: 100.0 s-1\n",
      "Site SH3_1 of molecule NCK can bind to site PRM of NWASP \n",
      "\tOn rate: 100.0 uM-1.s-1, off rate: 10000.0 s-1\n",
      "Site SH3_2 of molecule NCK can bind to site PRM of NWASP \n",
      "\tOn rate: 100.0 uM-1.s-1, off rate: 10000.0 s-1\n",
      "Site SH3_3 of molecule NCK can bind to site PRM of NWASP \n",
      "\tOn rate: 100.0 uM-1.s-1, off rate: 10000.0 s-1\n",
      "Site pTyr_3 of molecule NEPHRIN can bind to site SH2 of NCK \n",
      "\tOn rate: 100.0 uM-1.s-1, off rate: 100.0 s-1\n"
     ]
    }
   ],
   "source": [
    "#Create the relative path to your desired SIMULATIONS or FOLDER directory\n",
    "search_directory = os.path.join('Examples','Nephrin-Nck-NWasp', 'Final_version_test_SIMULATIONS', 'Simulation0_SIM_SIMULATIONS')\n",
    "\n",
    "#Get a description of the input file in that directory\n",
    "\n",
    "#add flag: skip_links\n",
    "Describe_input_file(search_directory, links=False, reactions=True, kinetics=True)"
   ]
  },
  {
   "cell_type": "code",
   "execution_count": null,
   "metadata": {},
   "outputs": [],
   "source": [
    "display_molecules(search_directory)"
   ]
  },
  {
   "cell_type": "code",
   "execution_count": null,
   "metadata": {},
   "outputs": [],
   "source": [
    "#Choose a file in the data folder by giving a search term (some part of the file name) or the full file name\n",
    "path = data_file_finder(search_directory, ['data'], search_term='BondCounts', file_name=None)\n",
    "file_info(path, list_neighbors=True)"
   ]
  },
  {
   "cell_type": "code",
   "execution_count": null,
   "metadata": {},
   "outputs": [],
   "source": [
    "#Plot the selected data over time\n",
    "Plotter.plot(path)\n",
    "\n",
    "#Get a list of columns and their respective indicies\n",
    "column_info(path)"
   ]
  },
  {
   "cell_type": "code",
   "execution_count": null,
   "metadata": {},
   "outputs": [],
   "source": [
    "#Select only the columns you want to see graphed\n",
    "Plotter.plot(path, [1, 2, 5])"
   ]
  },
  {
   "cell_type": "code",
   "execution_count": null,
   "metadata": {},
   "outputs": [],
   "source": [
    "#Change the data file\n",
    "path = data_file_finder(search_directory, ['data'], 'MoleculeCounts')\n",
    "column_info(path)\n",
    "Plotter.plot(path, [3,6,9])"
   ]
  },
  {
   "cell_type": "code",
   "execution_count": null,
   "metadata": {},
   "outputs": [],
   "source": [
    "#Show the average Z position of each molecule\n",
    "Average_z_pos.plot(search_directory, indicies=[], verbose=True, legend_right=True, list_options=True, mode='mol', fill=True)"
   ]
  },
  {
   "cell_type": "code",
   "execution_count": null,
   "metadata": {},
   "outputs": [],
   "source": [
    "#Shorten legend with Verbose=False and set list_options=False so only the graph is displayed\n",
    "Average_z_pos.plot(search_directory, indicies=[0,1], verbose=False, legend_right=False, list_options=False, mode='mol', fill=True)"
   ]
  },
  {
   "cell_type": "code",
   "execution_count": null,
   "metadata": {},
   "outputs": [],
   "source": [
    "#View radius of gyration and bonds per molecule distribution (shows last data point by default)\n",
    "Spatial_Analysis.plot(search_directory, times=[])"
   ]
  },
  {
   "cell_type": "code",
   "execution_count": null,
   "metadata": {},
   "outputs": [],
   "source": [
    "#Select a specific point in time\n",
    "Spatial_Analysis.plot(search_directory, [0.002, 0.004])"
   ]
  },
  {
   "cell_type": "code",
   "execution_count": null,
   "metadata": {},
   "outputs": [],
   "source": [
    "#View cluster size distribution histogram at a particular point in time with or without bins\n",
    "Histogram.plot(search_directory, [], 0.02)\n",
    "Histogram.plot(search_directory, [1,5,10], 0.04)"
   ]
  },
  {
   "cell_type": "code",
   "execution_count": null,
   "metadata": {},
   "outputs": [],
   "source": [
    "Cluster_comp.plot(search_directory, 0.02)"
   ]
  },
  {
   "cell_type": "code",
   "execution_count": null,
   "metadata": {},
   "outputs": [],
   "source": [
    "Bound_fraction.plot(search_directory, [0.02])"
   ]
  },
  {
   "cell_type": "code",
   "execution_count": null,
   "metadata": {},
   "outputs": [],
   "source": [
    "#data_selection options are 'rg' (cluster radius of gyration), 'cs' (cluster size or number of molecules in a cluster), and 'mr' (maximum cluster radius relative to cluster COM)\n",
    "#indicies selects maximuim (0), average (1), or both in the plot below. It's both by default\n",
    "#Warning: computationally intensive for larger simulations\n",
    "Spatial_Analysis.time_course(search_directory, data_selection='rg', indicies=[0,1], size_threshold=1)"
   ]
  },
  {
   "cell_type": "code",
   "execution_count": null,
   "metadata": {},
   "outputs": [],
   "source": [
    "Spatial_Analysis.time_course(search_directory, data_selection='cs', indicies=[0,1], size_threshold=1)"
   ]
  },
  {
   "cell_type": "code",
   "execution_count": null,
   "metadata": {},
   "outputs": [],
   "source": [
    "Spatial_Analysis.time_course(search_directory, data_selection='mr', indicies=[0,1], size_threshold=1)"
   ]
  }
 ],
 "metadata": {
  "kernelspec": {
   "display_name": "Python 3",
   "language": "python",
   "name": "python3"
  },
  "language_info": {
   "codemirror_mode": {
    "name": "ipython",
    "version": 3
   },
   "file_extension": ".py",
   "mimetype": "text/x-python",
   "name": "python",
   "nbconvert_exporter": "python",
   "pygments_lexer": "ipython3",
   "version": "3.10.4"
  }
 },
 "nbformat": 4,
 "nbformat_minor": 4
}
