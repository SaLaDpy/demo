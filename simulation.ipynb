{
 "cells": [
  {
   "cell_type": "markdown",
   "metadata": {},
   "source": [
    "# Edit and Simulate SpringSaLaD Input Files"
   ]
  },
  {
   "cell_type": "code",
   "execution_count": 1,
   "metadata": {},
   "outputs": [],
   "source": [
    "#Import necessary functions\n",
    "from SpringSaLaDpy.editor import *\n",
    "from SpringSaLaDpy.Project_reader import *\n",
    "from SpringSaLaDpy.executable import simulate"
   ]
  },
  {
   "cell_type": "code",
   "execution_count": 2,
   "metadata": {},
   "outputs": [],
   "source": [
    "#Construct the relative path to the directory that contains the desired input file.\n",
    "search_directory = os.path.join('GUI_results', 'Nephrin-Nck-NWasp', 'Final_version_test_SIMULATIONS', 'Simulation0_SIM_SIMULATIONS')"
   ]
  },
  {
   "cell_type": "markdown",
   "metadata": {},
   "source": [
    "## Describe Input File Contents\n",
    "\n",
    "### Options:\n",
    "- links: describes the connections between all of the sites in each molecule (default False)\n",
    "- reactions: describes all the binding, allosteric, and transition reactions (default False)\n",
    "- kinetics: display kinetic information like initial counts and kinetic rates (default False)"
   ]
  },
  {
   "cell_type": "code",
   "execution_count": 3,
   "metadata": {},
   "outputs": [
    {
     "name": "stdout",
     "output_type": "stream",
     "text": [
      "Molecules:\n",
      "\n",
      "MOLECULE: \"NWASP\" (Initial Count: 10)\n",
      "This molecule has 5 site types: dom1, linker, PRM, dom3, dom2\n",
      "\n",
      "It consists of 16 connected sites:\n",
      "Type PRM: 6 intracellular sites (Site 0, Site 2, Site 4, Site 6, Site 8, Site 10)\n",
      "Type linker: 7 intracellular sites (Site 1, Site 3, Site 5, Site 7, Site 9, Site 14, Site 15)\n",
      "Type dom1: 1 intracellular (Site 11)\n",
      "Type dom3: 1 intracellular (Site 12)\n",
      "Type dom2: 1 intracellular (Site 13)\n",
      "------------------------------------------------------------------------------------------------------------\n",
      "\n",
      "MOLECULE: \"NCK\" (Initial Count: 20)\n",
      "This molecule has 5 site types: SH3_1, SH3_2, SH3_3, SH2, linker\n",
      "\n",
      "It consists of 5 connected sites:\n",
      "Type SH3_1: 1 intracellular (Site 0)\n",
      "Type SH3_2: 1 intracellular (Site 1)\n",
      "Type SH3_3: 1 intracellular (Site 2)\n",
      "Type SH2: 1 intracellular (Site 3)\n",
      "Type linker: 1 intracellular (Site 4)\n",
      "------------------------------------------------------------------------------------------------------------\n",
      "\n",
      "MOLECULE: \"NEPHRIN\" (Initial Count: 6)\n",
      "This molecule has 7 site types: dom1, Anchor, dom2, pTyr_1_2, linker, lin_dom, pTyr_3\n",
      "\n",
      "It consists of 8 connected sites:\n",
      "Type Anchor: 1 membrane (Site 0)\n",
      "Type dom1: 1 intracellular (Site 1)\n",
      "Type dom2: 1 intracellular (Site 2)\n",
      "Type pTyr_1_2: 2 intracellular sites (Site 3, Site 4)\n",
      "Type linker: 1 intracellular (Site 5)\n",
      "Type pTyr_3: 1 intracellular (Site 6)\n",
      "Type lin_dom: 1 intracellular (Site 7)\n",
      "------------------------------------------------------------------------------------------------------------\n",
      "\n",
      "************************************************************************************************************\n",
      "\n",
      "Reaction Rules\n",
      "\n",
      "Biomolecular Binding Reactions: 5\n",
      "Site pTyr_1_2 of molecule NEPHRIN can bind to site SH2 of NCK \n",
      "\tOn rate: 100.0 uM-1.s-1, off rate: 100.0 s-1\n",
      "Site SH3_1 of molecule NCK can bind to site PRM of NWASP \n",
      "\tOn rate: 100.0 uM-1.s-1, off rate: 10000.0 s-1\n",
      "Site SH3_2 of molecule NCK can bind to site PRM of NWASP \n",
      "\tOn rate: 100.0 uM-1.s-1, off rate: 10000.0 s-1\n",
      "Site SH3_3 of molecule NCK can bind to site PRM of NWASP \n",
      "\tOn rate: 100.0 uM-1.s-1, off rate: 10000.0 s-1\n",
      "Site pTyr_3 of molecule NEPHRIN can bind to site SH2 of NCK \n",
      "\tOn rate: 100.0 uM-1.s-1, off rate: 100.0 s-1\n"
     ]
    }
   ],
   "source": [
    "Describe_input_file(search_directory, links=False, reactions=True, kinetics=True)"
   ]
  },
  {
   "cell_type": "code",
   "execution_count": 4,
   "metadata": {},
   "outputs": [],
   "source": [
    "#New molecule counts, on rates, and off rates\n",
    "counts = [10,20,16]\n",
    "on_rate = [10000]\n",
    "off_rate = [100]\n",
    "\n",
    "#Set the output_path for the modified input file\n",
    "output_name = 'modified_input4.txt'\n",
    "output_path_tail = 'Simulate'\n",
    "output_path = os.path.join(output_path_tail, output_name)"
   ]
  },
  {
   "cell_type": "markdown",
   "metadata": {},
   "source": [
    "## Edit the Input File\n",
    "\n",
    "### Options:\n",
    "- output_path: the path to the modified input file (default '' which will try to overwrite the first txt file in the search_directory)\n",
    "- counts: the new list of molecule counts in the order they appear in the input file (default [] which leaves counts unchanged)\n",
    "- on_rate: the new list of molecular binding reaction on rates in the order they appear in the input file (default [] which leaves on rates unchanged)\n",
    "- off_rate: the new list of molecular binding reaction off rates in the order they appear in the input file (default [] which leaves off rates unchanged)"
   ]
  },
  {
   "cell_type": "code",
   "execution_count": 5,
   "metadata": {},
   "outputs": [],
   "source": [
    "edit_input_file(search_directory, output_path=output_path, counts=counts, on_rate=on_rate, off_rate=off_rate)"
   ]
  },
  {
   "cell_type": "code",
   "execution_count": 6,
   "metadata": {},
   "outputs": [
    {
     "name": "stdout",
     "output_type": "stream",
     "text": [
      "Molecules:\n",
      "\n",
      "MOLECULE: \"NWASP\" (Initial Count: 10)\n",
      "This molecule has 5 site types: dom1, linker, PRM, dom3, dom2\n",
      "\n",
      "It consists of 16 connected sites:\n",
      "Type PRM: 6 intracellular sites (Site 0, Site 2, Site 4, Site 6, Site 8, Site 10)\n",
      "Type linker: 7 intracellular sites (Site 1, Site 3, Site 5, Site 7, Site 9, Site 14, Site 15)\n",
      "Type dom1: 1 intracellular (Site 11)\n",
      "Type dom3: 1 intracellular (Site 12)\n",
      "Type dom2: 1 intracellular (Site 13)\n",
      "------------------------------------------------------------------------------------------------------------\n",
      "\n",
      "MOLECULE: \"NCK\" (Initial Count: 20)\n",
      "This molecule has 5 site types: SH3_1, SH3_2, SH3_3, SH2, linker\n",
      "\n",
      "It consists of 5 connected sites:\n",
      "Type SH3_1: 1 intracellular (Site 0)\n",
      "Type SH3_2: 1 intracellular (Site 1)\n",
      "Type SH3_3: 1 intracellular (Site 2)\n",
      "Type SH2: 1 intracellular (Site 3)\n",
      "Type linker: 1 intracellular (Site 4)\n",
      "------------------------------------------------------------------------------------------------------------\n",
      "\n",
      "MOLECULE: \"NEPHRIN\" (Initial Count: 16)\n",
      "This molecule has 7 site types: dom1, Anchor, dom2, pTyr_1_2, linker, lin_dom, pTyr_3\n",
      "\n",
      "It consists of 8 connected sites:\n",
      "Type Anchor: 1 membrane (Site 0)\n",
      "Type dom1: 1 intracellular (Site 1)\n",
      "Type dom2: 1 intracellular (Site 2)\n",
      "Type pTyr_1_2: 2 intracellular sites (Site 3, Site 4)\n",
      "Type linker: 1 intracellular (Site 5)\n",
      "Type pTyr_3: 1 intracellular (Site 6)\n",
      "Type lin_dom: 1 intracellular (Site 7)\n",
      "------------------------------------------------------------------------------------------------------------\n",
      "\n",
      "************************************************************************************************************\n",
      "\n",
      "Reaction Rules\n",
      "\n",
      "Biomolecular Binding Reactions: 5\n",
      "Site pTyr_1_2 of molecule NEPHRIN can bind to site SH2 of NCK \n",
      "\tOn rate: 10000 uM-1.s-1, off rate: 100 s-1\n",
      "Site SH3_1 of molecule NCK can bind to site PRM of NWASP \n",
      "\tOn rate: 100.0 uM-1.s-1, off rate: 10000.0 s-1\n",
      "Site SH3_2 of molecule NCK can bind to site PRM of NWASP \n",
      "\tOn rate: 100.0 uM-1.s-1, off rate: 10000.0 s-1\n",
      "Site SH3_3 of molecule NCK can bind to site PRM of NWASP \n",
      "\tOn rate: 100.0 uM-1.s-1, off rate: 10000.0 s-1\n",
      "Site pTyr_3 of molecule NEPHRIN can bind to site SH2 of NCK \n",
      "\tOn rate: 100.0 uM-1.s-1, off rate: 100.0 s-1\n"
     ]
    }
   ],
   "source": [
    "Describe_input_file(output_path_tail, search_term=output_name, links=False, reactions=True, kinetics=True)"
   ]
  },
  {
   "cell_type": "markdown",
   "metadata": {},
   "source": [
    "## Run the Simulation\n",
    "Send an input file to the SpringSaLaD executable.\n",
    "\n",
    "### Options\n",
    "- runs: The number of times the simulation should run"
   ]
  },
  {
   "cell_type": "code",
   "execution_count": null,
   "metadata": {},
   "outputs": [],
   "source": [
    "simulate(output_path, runs=4)"
   ]
  }
 ],
 "metadata": {
  "kernelspec": {
   "display_name": "venv",
   "language": "python",
   "name": "python3"
  },
  "language_info": {
   "codemirror_mode": {
    "name": "ipython",
    "version": 3
   },
   "file_extension": ".py",
   "mimetype": "text/x-python",
   "name": "python",
   "nbconvert_exporter": "python",
   "pygments_lexer": "ipython3",
   "version": "3.10.4"
  }
 },
 "nbformat": 4,
 "nbformat_minor": 2
}
