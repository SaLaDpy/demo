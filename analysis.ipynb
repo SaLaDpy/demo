{
 "cells": [
  {
   "cell_type": "markdown",
   "metadata": {},
   "source": [
    "# Python Visulization of SpringSaLaD Outputs\n",
    "\n",
    "This notebook demonstrates different ways visualize the CSV outputs generate by SpringSaLaD."
   ]
  },
  {
   "cell_type": "code",
   "execution_count": 1,
   "metadata": {},
   "outputs": [],
   "source": [
    "#Import necessary functions and data\n",
    "from SpringSaLaDpy.Visualization import *\n",
    "from SpringSaLaDpy.data_locator import data_file_finder\n",
    "from SpringSaLaDpy.display_info import *\n",
    "from SpringSaLaDpy.Project_reader import Describe_input_file\n",
    "from SpringSaLaDpy.MolDraw.MolDraw_exec import display_molecules"
   ]
  },
  {
   "cell_type": "code",
   "execution_count": null,
   "metadata": {},
   "outputs": [],
   "source": [
    "#Create the relative path to your desired SIMULATIONS or FOLDER directory\n",
    "search_directory = os.path.join('Examples','Nephrin-Nck-NWasp', 'Final_version_test_SIMULATIONS', 'Simulation0_SIM_SIMULATIONS')\n",
    "\n",
    "#Get a description of the input file in that directory\n",
    "\n",
    "#add flag: skip_links\n",
    "Describe_input_file(search_directory, links=False, reactions=True, kinetics=True)"
   ]
  },
  {
   "cell_type": "code",
   "execution_count": null,
   "metadata": {},
   "outputs": [],
   "source": [
    "display_molecules(search_directory)"
   ]
  },
  {
   "cell_type": "code",
   "execution_count": null,
   "metadata": {},
   "outputs": [],
   "source": [
    "#Choose a file in the data folder by giving a search term (some part of the file name) or the full file name\n",
    "path = data_file_finder(search_directory, ['data'], search_term='BondCounts', file_name=None)\n",
    "file_info(path, list_neighbors=True)"
   ]
  },
  {
   "cell_type": "code",
   "execution_count": null,
   "metadata": {},
   "outputs": [],
   "source": [
    "#Plot the selected data over time\n",
    "Plotter.plot(path)\n",
    "\n",
    "#Get a list of columns and their respective indicies\n",
    "column_info(path)"
   ]
  },
  {
   "cell_type": "code",
   "execution_count": null,
   "metadata": {},
   "outputs": [],
   "source": [
    "#Select only the columns you want to see graphed\n",
    "Plotter.plot(path, [1, 2, 5])"
   ]
  },
  {
   "cell_type": "code",
   "execution_count": null,
   "metadata": {},
   "outputs": [],
   "source": [
    "#Change the data file\n",
    "path = data_file_finder(search_directory, ['data'], 'MoleculeCounts')\n",
    "column_info(path)\n",
    "Plotter.plot(path, [3,6,9])"
   ]
  },
  {
   "cell_type": "code",
   "execution_count": null,
   "metadata": {},
   "outputs": [],
   "source": [
    "#Show the average Z position of each molecule\n",
    "Average_z_pos.plot(search_directory, indicies=[], verbose=True, legend_right=True, list_options=True, mode='mol', fill=True)"
   ]
  },
  {
   "cell_type": "code",
   "execution_count": null,
   "metadata": {},
   "outputs": [],
   "source": [
    "#Shorten legend with Verbose=False and set list_options=False so only the graph is displayed\n",
    "Average_z_pos.plot(search_directory, indicies=[0,1], verbose=False, legend_right=False, list_options=False, mode='mol', fill=True)"
   ]
  },
  {
   "cell_type": "code",
   "execution_count": null,
   "metadata": {},
   "outputs": [],
   "source": [
    "#View radius of gyration and bonds per molecule distribution (shows last data point by default)\n",
    "Spatial_Analysis.plot(search_directory, times=[])"
   ]
  },
  {
   "cell_type": "code",
   "execution_count": null,
   "metadata": {},
   "outputs": [],
   "source": [
    "#Select a specific point in time\n",
    "Spatial_Analysis.plot(search_directory, [0.002, 0.004])"
   ]
  },
  {
   "cell_type": "code",
   "execution_count": null,
   "metadata": {},
   "outputs": [],
   "source": [
    "#View cluster size distribution histogram at a particular point in time with or without bins\n",
    "Histogram.plot(search_directory, [], 0.02)\n",
    "Histogram.plot(search_directory, [1,5,10], 0.04)"
   ]
  },
  {
   "cell_type": "code",
   "execution_count": null,
   "metadata": {},
   "outputs": [],
   "source": [
    "Cluster_comp.plot(search_directory, 0.02)"
   ]
  },
  {
   "cell_type": "code",
   "execution_count": null,
   "metadata": {},
   "outputs": [],
   "source": [
    "Bound_fraction.plot(search_directory, [0.02])"
   ]
  },
  {
   "cell_type": "code",
   "execution_count": null,
   "metadata": {},
   "outputs": [],
   "source": [
    "#data_selection options are 'rg' (cluster radius of gyration), 'cs' (cluster size or number of molecules in a cluster), and 'mr' (maximum cluster radius relative to cluster COM)\n",
    "#indicies selects maximuim (0), average (1), or both in the plot below. It's both by default\n",
    "#Warning: computationally intensive for larger simulations\n",
    "Spatial_Analysis.time_course(search_directory, data_selection='rg', indicies=[0,1], size_threshold=1)"
   ]
  },
  {
   "cell_type": "code",
   "execution_count": null,
   "metadata": {},
   "outputs": [],
   "source": [
    "Spatial_Analysis.time_course(search_directory, data_selection='cs', indicies=[0,1], size_threshold=1)"
   ]
  },
  {
   "cell_type": "code",
   "execution_count": null,
   "metadata": {},
   "outputs": [],
   "source": [
    "Spatial_Analysis.time_course(search_directory, data_selection='mr', indicies=[0,1], size_threshold=1)"
   ]
  }
 ],
 "metadata": {
  "kernelspec": {
   "display_name": "Python 3",
   "language": "python",
   "name": "python3"
  },
  "language_info": {
   "codemirror_mode": {
    "name": "ipython",
    "version": 3
   },
   "file_extension": ".py",
   "mimetype": "text/x-python",
   "name": "python",
   "nbconvert_exporter": "python",
   "pygments_lexer": "ipython3",
   "version": "3.10.4"
  }
 },
 "nbformat": 4,
 "nbformat_minor": 4
}
