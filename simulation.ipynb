{
 "cells": [
  {
   "cell_type": "markdown",
   "metadata": {},
   "source": [
    "# Edit and Simulate SpringSaLaD Input Files"
   ]
  },
  {
   "cell_type": "code",
   "execution_count": 1,
   "metadata": {},
   "outputs": [],
   "source": [
    "from SpringSaLaDpy.editor import *\n",
    "from SpringSaLaDpy.Project_reader import *\n",
    "from SpringSaLaDpy.executable import simulate"
   ]
  },
  {
   "cell_type": "markdown",
   "metadata": {},
   "source": [
    "## Create search_directory\n",
    "\n",
    "Create the relative path to a SIMULATIONS or FOLDER directory created by SpringSaLaD (called search_directory in this notebook). This is the location of the input file that will be edited and or simulated."
   ]
  },
  {
   "cell_type": "code",
   "execution_count": 2,
   "metadata": {},
   "outputs": [],
   "source": [
    "search_directory = os.path.join('GUI_results', 'Nephrin-Nck-NWasp', 'Final_version_test_SIMULATIONS', 'Simulation0_SIM_SIMULATIONS')"
   ]
  },
  {
   "cell_type": "markdown",
   "metadata": {},
   "source": [
    "## Describe Input File\n",
    "\n",
    "Looks for a .txt file in the search_directory and displays a summary of its data. If there are multiple .txt files that match the search criteria, a warning will be displayed.\n",
    "\n",
    "### Options:\n",
    "- **search_term**: The selected file must have this string as part of its name (default '' means the last .txt file in the directory will be selected)\n",
    "- **links**: Display the links between sites within each molecule (default False)\n",
    "- **reactions**: Display the molecule, site, and state information for all of the reactions (default False)\n",
    "- **kinetics**: Display initial molecule counts and reaction rates (default False)"
   ]
  },
  {
   "cell_type": "code",
   "execution_count": 3,
   "metadata": {},
   "outputs": [
    {
     "name": "stdout",
     "output_type": "stream",
     "text": [
      "Molecules:\n",
      "\n",
      "MOLECULE: \"NWASP\" (Initial Count: 10)\n",
      "This molecule has 5 site types: dom1, linker, PRM, dom3, dom2\n",
      "\n",
      "It consists of 16 connected sites:\n",
      "Type PRM: 6 Green intracellular sites (Site 0, Site 2, Site 4, Site 6, Site 8, Site 10)\n",
      "Type linker: 7 Pink intracellular sites (Site 1, Site 3, Site 5, Site 7, Site 9, Site 14, Site 15)\n",
      "Type dom1: 1 Orange intracellular site (Site 11)\n",
      "Type dom3: 1 Orange intracellular site (Site 12)\n",
      "Type dom2: 1 Orange intracellular site (Site 13)\n",
      "------------------------------------------------------------------------------------------------------------\n",
      "\n",
      "MOLECULE: \"NCK\" (Initial Count: 20)\n",
      "This molecule has 5 site types: SH3_1, SH3_2, SH3_3, SH2, linker\n",
      "\n",
      "It consists of 5 connected sites:\n",
      "Type SH3_1: 1 Magenta intracellular site (Site 0)\n",
      "Type SH3_2: 1 Magenta intracellular site (Site 1)\n",
      "Type SH3_3: 1 Magenta intracellular site (Site 2)\n",
      "Type SH2: 1 Yellow intracellular site (Site 3)\n",
      "Type linker: 1 Pink intracellular site (Site 4)\n",
      "------------------------------------------------------------------------------------------------------------\n",
      "\n",
      "MOLECULE: \"NEPHRIN\" (Initial Count: 6)\n",
      "This molecule has 7 site types: dom1, Anchor, dom2, pTyr_1_2, linker, lin_dom, pTyr_3\n",
      "\n",
      "It consists of 8 connected sites:\n",
      "Type Anchor: 1 Gray membrane site (Site 0)\n",
      "Type dom1: 1 Cyan intracellular site (Site 1)\n",
      "Type dom2: 1 Cyan intracellular site (Site 2)\n",
      "Type pTyr_1_2: 2 Red intracellular sites (Site 3, Site 4)\n",
      "Type linker: 1 Cyan intracellular site (Site 5)\n",
      "Type pTyr_3: 1 Red intracellular site (Site 6)\n",
      "Type lin_dom: 1 Cyan intracellular site (Site 7)\n",
      "------------------------------------------------------------------------------------------------------------\n",
      "\n",
      "************************************************************************************************************\n",
      "\n",
      "Reaction Rules\n",
      "\n",
      "Biomolecular Binding Reactions: 5\n",
      "Site pTyr_1_2 of molecule NEPHRIN can bind to site SH2 of NCK \n",
      "\tOn rate: 100.0 uM-1.s-1, off rate: 100.0 s-1\n",
      "Site SH3_1 of molecule NCK can bind to site PRM of NWASP \n",
      "\tOn rate: 100.0 uM-1.s-1, off rate: 10000.0 s-1\n",
      "Site SH3_2 of molecule NCK can bind to site PRM of NWASP \n",
      "\tOn rate: 100.0 uM-1.s-1, off rate: 10000.0 s-1\n",
      "Site SH3_3 of molecule NCK can bind to site PRM of NWASP \n",
      "\tOn rate: 100.0 uM-1.s-1, off rate: 10000.0 s-1\n",
      "Site pTyr_3 of molecule NEPHRIN can bind to site SH2 of NCK \n",
      "\tOn rate: 100.0 uM-1.s-1, off rate: 100.0 s-1\n"
     ]
    }
   ],
   "source": [
    "Describe_input_file(search_directory, search_term='', links=False, reactions=True, kinetics=True)"
   ]
  },
  {
   "cell_type": "markdown",
   "metadata": {},
   "source": [
    "## Set Modified Input File Path\n",
    "\n",
    "Specify the relative path to the modified input file and its name. Combine these to into a relative path to the file with os.path.join(). Of course, you can set the output_path variable manually if you know the relative path you want."
   ]
  },
  {
   "cell_type": "code",
   "execution_count": 5,
   "metadata": {},
   "outputs": [
    {
     "name": "stdout",
     "output_type": "stream",
     "text": [
      "Simulate\\modified_input.txt\n"
     ]
    }
   ],
   "source": [
    "output_location = 'Simulate'\n",
    "output_name = 'modified_input.txt'\n",
    "output_path = os.path.join(output_location, output_name)\n",
    "print(output_path)"
   ]
  },
  {
   "cell_type": "markdown",
   "metadata": {},
   "source": [
    "## Edit the Input File\n",
    "\n",
    "Specify new counts and kinetic rates (on and off rate) that will be written to an input file at the location specified.\n",
    "\n",
    "### Options:\n",
    "- **output_path**: the path to the modified input file (default '' which will try to overwrite the last txt file in the search_directory)\n",
    "- **counts**: the new list of molecule counts in the order they appear in the input file (default [] which leaves counts unchanged)\n",
    "- **on_rate**: the new list of molecular binding reaction on rates in the order they appear in the input file (default [] which leaves on rates unchanged)\n",
    "- **off_rate**: the new list of molecular binding reaction off rates in the order they appear in the input file (default [] which leaves off rates unchanged)"
   ]
  },
  {
   "cell_type": "code",
   "execution_count": 9,
   "metadata": {},
   "outputs": [],
   "source": [
    "edit_input_file(search_directory, output_path=output_path, counts=[10,20,16], on_rate=[10000], off_rate=[100])"
   ]
  },
  {
   "cell_type": "code",
   "execution_count": 10,
   "metadata": {},
   "outputs": [
    {
     "name": "stdout",
     "output_type": "stream",
     "text": [
      "Molecules:\n",
      "\n",
      "MOLECULE: \"NWASP\" (Initial Count: 10)\n",
      "This molecule has 5 site types: dom1, linker, PRM, dom3, dom2\n",
      "\n",
      "It consists of 16 connected sites:\n",
      "Type PRM: 6 Green intracellular sites (Site 0, Site 2, Site 4, Site 6, Site 8, Site 10)\n",
      "Type linker: 7 Pink intracellular sites (Site 1, Site 3, Site 5, Site 7, Site 9, Site 14, Site 15)\n",
      "Type dom1: 1 Orange intracellular site (Site 11)\n",
      "Type dom3: 1 Orange intracellular site (Site 12)\n",
      "Type dom2: 1 Orange intracellular site (Site 13)\n",
      "------------------------------------------------------------------------------------------------------------\n",
      "\n",
      "MOLECULE: \"NCK\" (Initial Count: 20)\n",
      "This molecule has 5 site types: SH3_1, SH3_2, SH3_3, SH2, linker\n",
      "\n",
      "It consists of 5 connected sites:\n",
      "Type SH3_1: 1 Magenta intracellular site (Site 0)\n",
      "Type SH3_2: 1 Magenta intracellular site (Site 1)\n",
      "Type SH3_3: 1 Magenta intracellular site (Site 2)\n",
      "Type SH2: 1 Yellow intracellular site (Site 3)\n",
      "Type linker: 1 Pink intracellular site (Site 4)\n",
      "------------------------------------------------------------------------------------------------------------\n",
      "\n",
      "MOLECULE: \"NEPHRIN\" (Initial Count: 16)\n",
      "This molecule has 7 site types: dom1, Anchor, dom2, pTyr_1_2, linker, lin_dom, pTyr_3\n",
      "\n",
      "It consists of 8 connected sites:\n",
      "Type Anchor: 1 Gray membrane site (Site 0)\n",
      "Type dom1: 1 Cyan intracellular site (Site 1)\n",
      "Type dom2: 1 Cyan intracellular site (Site 2)\n",
      "Type pTyr_1_2: 2 Red intracellular sites (Site 3, Site 4)\n",
      "Type linker: 1 Cyan intracellular site (Site 5)\n",
      "Type pTyr_3: 1 Red intracellular site (Site 6)\n",
      "Type lin_dom: 1 Cyan intracellular site (Site 7)\n",
      "------------------------------------------------------------------------------------------------------------\n",
      "\n",
      "************************************************************************************************************\n",
      "\n",
      "Reaction Rules\n",
      "\n",
      "Biomolecular Binding Reactions: 5\n",
      "Site pTyr_1_2 of molecule NEPHRIN can bind to site SH2 of NCK \n",
      "\tOn rate: 10000 uM-1.s-1, off rate: 100 s-1\n",
      "Site SH3_1 of molecule NCK can bind to site PRM of NWASP \n",
      "\tOn rate: 100.0 uM-1.s-1, off rate: 10000.0 s-1\n",
      "Site SH3_2 of molecule NCK can bind to site PRM of NWASP \n",
      "\tOn rate: 100.0 uM-1.s-1, off rate: 10000.0 s-1\n",
      "Site SH3_3 of molecule NCK can bind to site PRM of NWASP \n",
      "\tOn rate: 100.0 uM-1.s-1, off rate: 10000.0 s-1\n",
      "Site pTyr_3 of molecule NEPHRIN can bind to site SH2 of NCK \n",
      "\tOn rate: 100.0 uM-1.s-1, off rate: 100.0 s-1\n"
     ]
    }
   ],
   "source": [
    "Describe_input_file(output_location, search_term=output_name, links=False, reactions=True, kinetics=True)"
   ]
  },
  {
   "cell_type": "markdown",
   "metadata": {},
   "source": [
    "## Run the Simulation\n",
    "Send an input file to the SpringSaLaD executable.\n",
    "\n",
    "### Options\n",
    "- **runs**: The number of times the simulation should run\n",
    "\n",
    "### Outputs\n",
    "#### Structure\n",
    "All simulation results will be stored in an output folder called <output_name_FOLDER> (i.e. modified_input.txt would make a folder called modified_input_FOLDER).\n",
    "\n",
    "The output folder has the following structure:\n",
    "- output_name_FOLDER\n",
    "    - data\n",
    "        - Run0\n",
    "        - Run1\n",
    "        - Run2\n",
    "        - etc.\n",
    "    - images\n",
    "    - pyStat (isn't created until an analysis function is run)\n",
    "    - videos\n",
    "    - viewer_files\n",
    "\n",
    "#### Important Subfolders\n",
    "**data**: contains CSV files (grouped by run) that describe the basic non spatial properties about the simulation at every point in time like the number of clusters, the moleclues in those clusters, and state of every site. \n",
    "\n",
    "**pyStat**: stores the data files generated when making visualizations with the analysis functions (demonstrated in analysis.ipynb). pyStat and its subfolders are automatically generated when running analysis funcitons.\n",
    "\n",
    "**viewer_files**: contains txt files that describe all of the spatial simulation data. This includes the position of all the sites and the links between them at each point in time. Each txt file in this folder has the data for a single run."
   ]
  },
  {
   "cell_type": "code",
   "execution_count": 7,
   "metadata": {},
   "outputs": [
    {
     "name": "stdout",
     "output_type": "stream",
     "text": [
      "Model \"Simulate\\modified_input.txt\" is running\n"
     ]
    }
   ],
   "source": [
    "simulate(output_path, runs=5)"
   ]
  }
 ],
 "metadata": {
  "kernelspec": {
   "display_name": "venv",
   "language": "python",
   "name": "python3"
  },
  "language_info": {
   "codemirror_mode": {
    "name": "ipython",
    "version": 3
   },
   "file_extension": ".py",
   "mimetype": "text/x-python",
   "name": "python",
   "nbconvert_exporter": "python",
   "pygments_lexer": "ipython3",
   "version": "3.10.4"
  }
 },
 "nbformat": 4,
 "nbformat_minor": 2
}
